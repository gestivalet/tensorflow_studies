{
 "cells": [
  {
   "cell_type": "markdown",
   "metadata": {},
   "source": [
    "# Chapter 10 - Classification and Regression with Sequential API"
   ]
  },
  {
   "cell_type": "code",
   "execution_count": 1,
   "metadata": {},
   "outputs": [
    {
     "name": "stdout",
     "output_type": "stream",
     "text": [
      "2.0.0\n",
      "2.2.4-tf\n"
     ]
    }
   ],
   "source": [
    "import tensorflow as tf\n",
    "print(tf.__version__)\n",
    "from tensorflow import keras\n",
    "print(keras.__version__)"
   ]
  },
  {
   "cell_type": "markdown",
   "metadata": {},
   "source": [
    "## Building an Image Classifier Using the Sequential API"
   ]
  },
  {
   "cell_type": "code",
   "execution_count": 2,
   "metadata": {},
   "outputs": [
    {
     "data": {
      "text/plain": [
       "((60000, 28, 28), dtype('uint8'))"
      ]
     },
     "execution_count": 2,
     "metadata": {},
     "output_type": "execute_result"
    }
   ],
   "source": [
    "fashion_mnist = tf.keras.datasets.fashion_mnist\n",
    "\n",
    "(X_train_full, y_train_full), (X_test, y_test) = fashion_mnist.load_data()\n",
    "\n",
    "X_train_full.shape, X_train_full.dtype"
   ]
  },
  {
   "cell_type": "code",
   "execution_count": 3,
   "metadata": {},
   "outputs": [],
   "source": [
    "X_valid, X_train = X_train_full[:5000] / 255.0, X_train_full[5000:] / 255.0\n",
    "y_valid, y_train = y_train_full[:5000], y_train_full[5000:]\n",
    "X_test = X_test / 255.0"
   ]
  },
  {
   "cell_type": "code",
   "execution_count": 4,
   "metadata": {},
   "outputs": [
    {
     "data": {
      "text/plain": [
       "'Coat'"
      ]
     },
     "execution_count": 4,
     "metadata": {},
     "output_type": "execute_result"
    }
   ],
   "source": [
    "class_names = ['T-shirt/top', 'Trouser', 'Pullover', 'Dress',\n",
    "               'Coat', 'Sandal', 'Shirt', 'Sneaker', 'Bag',\n",
    "               'Ankle boot']\n",
    "\n",
    "class_names[y_train[0]]"
   ]
  },
  {
   "cell_type": "code",
   "execution_count": 5,
   "metadata": {},
   "outputs": [
    {
     "name": "stdout",
     "output_type": "stream",
     "text": [
      "Model: \"sequential\"\n",
      "_________________________________________________________________\n",
      "Layer (type)                 Output Shape              Param #   \n",
      "=================================================================\n",
      "flatten (Flatten)            (None, 784)               0         \n",
      "_________________________________________________________________\n",
      "dense (Dense)                (None, 300)               235500    \n",
      "_________________________________________________________________\n",
      "dense_1 (Dense)              (None, 100)               30100     \n",
      "_________________________________________________________________\n",
      "dense_2 (Dense)              (None, 10)                1010      \n",
      "=================================================================\n",
      "Total params: 266,610\n",
      "Trainable params: 266,610\n",
      "Non-trainable params: 0\n",
      "_________________________________________________________________\n"
     ]
    }
   ],
   "source": [
    "model = keras.models.Sequential([\n",
    "    tf.keras.layers.Flatten(input_shape=[28, 28]),\n",
    "    tf.keras.layers.Dense(300, activation='relu'),\n",
    "    tf.keras.layers.Dense(100, activation=tf.keras.activations.relu),\n",
    "    tf.keras.layers.Dense(10, activation='softmax'),\n",
    "])\n",
    "\n",
    "model.summary()"
   ]
  },
  {
   "cell_type": "code",
   "execution_count": 6,
   "metadata": {},
   "outputs": [
    {
     "data": {
      "text/plain": [
       "[<tensorflow.python.keras.layers.core.Flatten at 0x7ffd28d42f90>,\n",
       " <tensorflow.python.keras.layers.core.Dense at 0x7ffd285b4d90>,\n",
       " <tensorflow.python.keras.layers.core.Dense at 0x7ffd28562d10>,\n",
       " <tensorflow.python.keras.layers.core.Dense at 0x7ffd2251abd0>]"
      ]
     },
     "execution_count": 6,
     "metadata": {},
     "output_type": "execute_result"
    }
   ],
   "source": [
    "model.layers"
   ]
  },
  {
   "cell_type": "code",
   "execution_count": 7,
   "metadata": {},
   "outputs": [
    {
     "data": {
      "text/plain": [
       "<tensorflow.python.keras.layers.core.Dense at 0x7ffd285b4d90>"
      ]
     },
     "execution_count": 7,
     "metadata": {},
     "output_type": "execute_result"
    }
   ],
   "source": [
    "hidden1 = model.layers[1]\n",
    "hidden1"
   ]
  },
  {
   "cell_type": "code",
   "execution_count": 8,
   "metadata": {},
   "outputs": [
    {
     "data": {
      "text/plain": [
       "'dense'"
      ]
     },
     "execution_count": 8,
     "metadata": {},
     "output_type": "execute_result"
    }
   ],
   "source": [
    "hidden1.name"
   ]
  },
  {
   "cell_type": "code",
   "execution_count": 9,
   "metadata": {},
   "outputs": [
    {
     "data": {
      "text/plain": [
       "True"
      ]
     },
     "execution_count": 9,
     "metadata": {},
     "output_type": "execute_result"
    }
   ],
   "source": [
    "model.get_layer('dense') is hidden1"
   ]
  },
  {
   "cell_type": "code",
   "execution_count": 10,
   "metadata": {},
   "outputs": [
    {
     "data": {
      "text/plain": [
       "array([[-0.00632299, -0.02339573,  0.04051927, ..., -0.04664114,\n",
       "        -0.00785594, -0.07357346],\n",
       "       [ 0.05428953, -0.06112337,  0.01149209, ..., -0.06492879,\n",
       "        -0.04364246, -0.02437637],\n",
       "       [ 0.02380292, -0.01559437, -0.02578073, ..., -0.06521324,\n",
       "         0.03878973,  0.03994615],\n",
       "       ...,\n",
       "       [ 0.07246546, -0.04125053,  0.00902397, ..., -0.06764467,\n",
       "         0.05889341, -0.01963213],\n",
       "       [-0.01117715,  0.06050155,  0.0274039 , ..., -0.01011657,\n",
       "        -0.02033428, -0.03872079],\n",
       "       [-0.03969196, -0.05154803,  0.05207835, ...,  0.05814248,\n",
       "         0.03840483, -0.01235364]], dtype=float32)"
      ]
     },
     "execution_count": 10,
     "metadata": {},
     "output_type": "execute_result"
    }
   ],
   "source": [
    "weights, bias = hidden1.get_weights()\n",
    "weights[:10]"
   ]
  },
  {
   "cell_type": "code",
   "execution_count": 11,
   "metadata": {},
   "outputs": [
    {
     "data": {
      "text/plain": [
       "array([0., 0., 0., 0., 0., 0., 0., 0., 0., 0.], dtype=float32)"
      ]
     },
     "execution_count": 11,
     "metadata": {},
     "output_type": "execute_result"
    }
   ],
   "source": [
    "bias[:10]"
   ]
  },
  {
   "cell_type": "code",
   "execution_count": 12,
   "metadata": {},
   "outputs": [
    {
     "data": {
      "text/plain": [
       "(784, 300)"
      ]
     },
     "execution_count": 12,
     "metadata": {},
     "output_type": "execute_result"
    }
   ],
   "source": [
    "weights.shape # random to break symmetry"
   ]
  },
  {
   "cell_type": "code",
   "execution_count": 13,
   "metadata": {},
   "outputs": [
    {
     "data": {
      "text/plain": [
       "(300,)"
      ]
     },
     "execution_count": 13,
     "metadata": {},
     "output_type": "execute_result"
    }
   ],
   "source": [
    "bias.shape # all zeros"
   ]
  },
  {
   "cell_type": "code",
   "execution_count": 14,
   "metadata": {},
   "outputs": [],
   "source": [
    "# tf.keras.losses.sparse_categorical_crossentropy\n",
    "# tf.keras.optimizer.SGD()\n",
    "# tf.keras.metrics.sparse_categorical_accuracy (for this loss)\n",
    "model.compile(loss='sparse_categorical_crossentropy',\n",
    "              optimizer='sgd',\n",
    "              metrics=['accuracy'])"
   ]
  },
  {
   "cell_type": "code",
   "execution_count": 15,
   "metadata": {},
   "outputs": [
    {
     "data": {
      "text/plain": [
       "array([9, 2, 1, ..., 8, 1, 5], dtype=uint8)"
      ]
     },
     "execution_count": 15,
     "metadata": {},
     "output_type": "execute_result"
    }
   ],
   "source": [
    "y_test"
   ]
  },
  {
   "cell_type": "code",
   "execution_count": 16,
   "metadata": {},
   "outputs": [
    {
     "name": "stdout",
     "output_type": "stream",
     "text": [
      "Train on 55000 samples, validate on 5000 samples\n",
      "Epoch 1/30\n",
      "55000/55000 - 11s - loss: 0.7218 - accuracy: 0.7618 - val_loss: 0.5040 - val_accuracy: 0.8324\n",
      "Epoch 2/30\n",
      "55000/55000 - 10s - loss: 0.4880 - accuracy: 0.8294 - val_loss: 0.4406 - val_accuracy: 0.8516\n",
      "Epoch 3/30\n",
      "55000/55000 - 9s - loss: 0.4432 - accuracy: 0.8447 - val_loss: 0.4523 - val_accuracy: 0.8368\n",
      "Epoch 4/30\n",
      "55000/55000 - 10s - loss: 0.4169 - accuracy: 0.8548 - val_loss: 0.3909 - val_accuracy: 0.8668\n",
      "Epoch 5/30\n",
      "55000/55000 - 15s - loss: 0.3957 - accuracy: 0.8609 - val_loss: 0.3901 - val_accuracy: 0.8636\n",
      "Epoch 6/30\n",
      "55000/55000 - 10s - loss: 0.3801 - accuracy: 0.8672 - val_loss: 0.3745 - val_accuracy: 0.8676\n",
      "Epoch 7/30\n",
      "55000/55000 - 10s - loss: 0.3676 - accuracy: 0.8705 - val_loss: 0.3725 - val_accuracy: 0.8644\n",
      "Epoch 8/30\n",
      "55000/55000 - 9s - loss: 0.3560 - accuracy: 0.8738 - val_loss: 0.3580 - val_accuracy: 0.8728\n",
      "Epoch 9/30\n",
      "55000/55000 - 11s - loss: 0.3447 - accuracy: 0.8778 - val_loss: 0.3520 - val_accuracy: 0.8712\n",
      "Epoch 10/30\n",
      "55000/55000 - 10s - loss: 0.3356 - accuracy: 0.8805 - val_loss: 0.4107 - val_accuracy: 0.8452\n",
      "Epoch 11/30\n",
      "55000/55000 - 11s - loss: 0.3274 - accuracy: 0.8837 - val_loss: 0.3454 - val_accuracy: 0.8750\n",
      "Epoch 12/30\n",
      "55000/55000 - 9s - loss: 0.3185 - accuracy: 0.8856 - val_loss: 0.3430 - val_accuracy: 0.8720\n",
      "Epoch 13/30\n",
      "55000/55000 - 9s - loss: 0.3117 - accuracy: 0.8882 - val_loss: 0.3276 - val_accuracy: 0.8812\n",
      "Epoch 14/30\n",
      "55000/55000 - 9s - loss: 0.3047 - accuracy: 0.8905 - val_loss: 0.3255 - val_accuracy: 0.8856\n",
      "Epoch 15/30\n",
      "55000/55000 - 9s - loss: 0.2980 - accuracy: 0.8928 - val_loss: 0.3278 - val_accuracy: 0.8822\n",
      "Epoch 16/30\n",
      "55000/55000 - 9s - loss: 0.2924 - accuracy: 0.8949 - val_loss: 0.3187 - val_accuracy: 0.8852\n",
      "Epoch 17/30\n",
      "55000/55000 - 9s - loss: 0.2861 - accuracy: 0.8964 - val_loss: 0.3211 - val_accuracy: 0.8838\n",
      "Epoch 18/30\n",
      "55000/55000 - 9s - loss: 0.2805 - accuracy: 0.8990 - val_loss: 0.3109 - val_accuracy: 0.8866\n",
      "Epoch 19/30\n",
      "55000/55000 - 9s - loss: 0.2758 - accuracy: 0.8996 - val_loss: 0.3261 - val_accuracy: 0.8800\n",
      "Epoch 20/30\n",
      "55000/55000 - 9s - loss: 0.2698 - accuracy: 0.9028 - val_loss: 0.3091 - val_accuracy: 0.8894\n",
      "Epoch 21/30\n",
      "55000/55000 - 9s - loss: 0.2654 - accuracy: 0.9036 - val_loss: 0.3067 - val_accuracy: 0.8914\n",
      "Epoch 22/30\n",
      "55000/55000 - 9s - loss: 0.2605 - accuracy: 0.9066 - val_loss: 0.3145 - val_accuracy: 0.8888\n",
      "Epoch 23/30\n",
      "55000/55000 - 9s - loss: 0.2555 - accuracy: 0.9073 - val_loss: 0.3029 - val_accuracy: 0.8920\n",
      "Epoch 24/30\n",
      "55000/55000 - 9s - loss: 0.2516 - accuracy: 0.9093 - val_loss: 0.3010 - val_accuracy: 0.8890\n",
      "Epoch 25/30\n",
      "55000/55000 - 12s - loss: 0.2468 - accuracy: 0.9112 - val_loss: 0.2978 - val_accuracy: 0.8888\n",
      "Epoch 26/30\n",
      "55000/55000 - 11s - loss: 0.2433 - accuracy: 0.9126 - val_loss: 0.3064 - val_accuracy: 0.8934\n",
      "Epoch 27/30\n",
      "55000/55000 - 9s - loss: 0.2382 - accuracy: 0.9138 - val_loss: 0.3037 - val_accuracy: 0.8860\n",
      "Epoch 28/30\n",
      "55000/55000 - 9s - loss: 0.2361 - accuracy: 0.9165 - val_loss: 0.3103 - val_accuracy: 0.8836\n",
      "Epoch 29/30\n",
      "55000/55000 - 9s - loss: 0.2318 - accuracy: 0.9163 - val_loss: 0.2911 - val_accuracy: 0.8932\n",
      "Epoch 30/30\n",
      "55000/55000 - 9s - loss: 0.2270 - accuracy: 0.9179 - val_loss: 0.2968 - val_accuracy: 0.8908\n"
     ]
    }
   ],
   "source": [
    "history = model.fit(X_train, y_train,\n",
    "                    validation_data=[X_valid, y_valid],\n",
    "                    epochs=30, \n",
    "                    verbose=2,\n",
    "                   # batch_size=32\n",
    "                   )"
   ]
  },
  {
   "cell_type": "code",
   "execution_count": 17,
   "metadata": {},
   "outputs": [
    {
     "data": {
      "image/png": "[encoded data removed]",
      "text/plain": [
       "<Figure size 576x360 with 1 Axes>"
      ]
     },
     "metadata": {
      "needs_background": "light"
     },
     "output_type": "display_data"
    }
   ],
   "source": [
    "# HDF5 format saves architecture, parameters, optimizer, connection weights, biases\n",
    "#model.save('my_model.h5')\n",
    "#model = tf.keras.models.load_model('my_keras_model.h5')\n",
    "\n",
    "import pandas as pd\n",
    "import matplotlib.pyplot as plt\n",
    "\n",
    "pd.DataFrame(history.history).plot(figsize=(8, 5))\n",
    "plt.grid(True)\n",
    "plt.gca().set_ylim(0, 1)\n",
    "plt.show()"
   ]
  },
  {
   "cell_type": "markdown",
   "metadata": {},
   "source": [
    "- __If retrained, tensorflow will continue from where it stopped above.__"
   ]
  },
  {
   "cell_type": "code",
   "execution_count": 18,
   "metadata": {},
   "outputs": [
    {
     "data": {
      "text/plain": [
       "[0.33389758937358854, 0.8824]"
      ]
     },
     "execution_count": 18,
     "metadata": {},
     "output_type": "execute_result"
    }
   ],
   "source": [
    "model.evaluate(X_test, y_test, verbose=0)"
   ]
  },
  {
   "cell_type": "code",
   "execution_count": 19,
   "metadata": {},
   "outputs": [
    {
     "data": {
      "text/plain": [
       "array([[0.  , 0.  , 0.  , 0.  , 0.  , 0.  , 0.  , 0.01, 0.  , 0.98],\n",
       "       [0.  , 0.  , 0.99, 0.  , 0.  , 0.  , 0.  , 0.  , 0.  , 0.  ],\n",
       "       [0.  , 1.  , 0.  , 0.  , 0.  , 0.  , 0.  , 0.  , 0.  , 0.  ]],\n",
       "      dtype=float32)"
      ]
     },
     "execution_count": 19,
     "metadata": {},
     "output_type": "execute_result"
    }
   ],
   "source": [
    "X_new = X_test[:3]\n",
    "y_proba = model.predict(X_new)\n",
    "y_proba.round(2)"
   ]
  },
  {
   "cell_type": "code",
   "execution_count": 20,
   "metadata": {},
   "outputs": [
    {
     "data": {
      "text/plain": [
       "array([9, 2, 1])"
      ]
     },
     "execution_count": 20,
     "metadata": {},
     "output_type": "execute_result"
    }
   ],
   "source": [
    "y_pred = model.predict_classes(X_new)\n",
    "y_pred"
   ]
  },
  {
   "cell_type": "code",
   "execution_count": 21,
   "metadata": {},
   "outputs": [
    {
     "data": {
      "text/plain": [
       "array(['Ankle boot', 'Pullover', 'Trouser'], dtype='<U11')"
      ]
     },
     "execution_count": 21,
     "metadata": {},
     "output_type": "execute_result"
    }
   ],
   "source": [
    "import numpy as np\n",
    "\n",
    "np.array(class_names)[y_pred]"
   ]
  },
  {
   "cell_type": "code",
   "execution_count": 22,
   "metadata": {},
   "outputs": [
    {
     "data": {
      "text/plain": [
       "dict_keys(['loss', 'accuracy', 'val_loss', 'val_accuracy'])"
      ]
     },
     "execution_count": 22,
     "metadata": {},
     "output_type": "execute_result"
    }
   ],
   "source": [
    "history.history.keys()"
   ]
  },
  {
   "cell_type": "markdown",
   "metadata": {},
   "source": [
    "## Building a Regression MLP Using the Sequential API"
   ]
  },
  {
   "cell_type": "code",
   "execution_count": 23,
   "metadata": {},
   "outputs": [],
   "source": [
    "from sklearn.datasets import fetch_california_housing\n",
    "from sklearn.model_selection import train_test_split\n",
    "from sklearn.preprocessing import StandardScaler"
   ]
  },
  {
   "cell_type": "code",
   "execution_count": 24,
   "metadata": {},
   "outputs": [],
   "source": [
    "housing = fetch_california_housing()\n",
    "\n",
    "X_train_full, X_test, y_train_full, y_test = train_test_split(housing.data, housing.target)\n",
    "X_train, X_valid, y_train, y_valid = train_test_split(X_train_full, y_train_full)\n",
    "\n",
    "scaler = StandardScaler()\n",
    "X_train = scaler.fit_transform(X_train)\n",
    "X_valid = scaler.transform(X_valid)\n",
    "X_test  = scaler.transform(X_test)"
   ]
  },
  {
   "cell_type": "code",
   "execution_count": 27,
   "metadata": {},
   "outputs": [
    {
     "data": {
      "text/plain": [
       "(11610, 8)"
      ]
     },
     "execution_count": 27,
     "metadata": {},
     "output_type": "execute_result"
    }
   ],
   "source": [
    "X_train.shape"
   ]
  },
  {
   "cell_type": "code",
   "execution_count": 29,
   "metadata": {},
   "outputs": [
    {
     "name": "stdout",
     "output_type": "stream",
     "text": [
      "Train on 11610 samples, validate on 3870 samples\n",
      "Epoch 1/20\n",
      "Epoch 2/20\n",
      "Epoch 3/20\n",
      "Epoch 4/20\n",
      "Epoch 5/20\n",
      "Epoch 6/20\n",
      "Epoch 7/20\n",
      "Epoch 8/20\n",
      "Epoch 9/20\n",
      "Epoch 10/20\n",
      "Epoch 11/20\n",
      "Epoch 12/20\n",
      "Epoch 13/20\n",
      "Epoch 14/20\n",
      "Epoch 15/20\n",
      "Epoch 16/20\n",
      "Epoch 17/20\n",
      "Epoch 18/20\n",
      "Epoch 19/20\n",
      "Epoch 20/20\n"
     ]
    }
   ],
   "source": [
    "model = tf.keras.models.Sequential([\n",
    "    tf.keras.layers.Dense(30, activation='relu', input_shape=X_train.shape[1:]),\n",
    "    tf.keras.layers.Dense(1),\n",
    "])\n",
    "\n",
    "model.compile(loss='mean_squared_error', optimizer='sgd')\n",
    "\n",
    "history = model.fit(X_train, y_train,\n",
    "                   validation_data=(X_valid, y_valid),\n",
    "                   epochs=20, verbose=3)"
   ]
  },
  {
   "cell_type": "code",
   "execution_count": 35,
   "metadata": {},
   "outputs": [
    {
     "data": {
      "image/png": "[encoded data removed]",
      "text/plain": [
       "<Figure size 576x360 with 1 Axes>"
      ]
     },
     "metadata": {
      "needs_background": "light"
     },
     "output_type": "display_data"
    }
   ],
   "source": [
    "# HDF5 format saves architecture, parameters, optimizer, connection weights, biases\n",
    "#model.save('my_model.h5')\n",
    "#model = tf.keras.models.load_model('my_keras_model.h5')\n",
    "\n",
    "import pandas as pd\n",
    "import matplotlib.pyplot as plt\n",
    "\n",
    "pd.DataFrame(history.history).plot(figsize=(8, 5))\n",
    "plt.grid(True)\n",
    "plt.gca().set_ylim(0, 1)\n",
    "plt.show()"
   ]
  },
  {
   "cell_type": "code",
   "execution_count": 31,
   "metadata": {},
   "outputs": [],
   "source": [
    "mse_test = model.evaluate(X_test, y_test, verbose=0)\n",
    "X_new = X_test[:3] #\"new instances\"\n",
    "y_pred = model.predict(X_new)"
   ]
  },
  {
   "cell_type": "code",
   "execution_count": 32,
   "metadata": {},
   "outputs": [
    {
     "data": {
      "text/plain": [
       "0.3783527876055518"
      ]
     },
     "execution_count": 32,
     "metadata": {},
     "output_type": "execute_result"
    }
   ],
   "source": [
    "mse_test"
   ]
  },
  {
   "cell_type": "code",
   "execution_count": 33,
   "metadata": {},
   "outputs": [
    {
     "data": {
      "text/plain": [
       "array([[3.8690712],\n",
       "       [2.21334  ],\n",
       "       [1.9512801]], dtype=float32)"
      ]
     },
     "execution_count": 33,
     "metadata": {},
     "output_type": "execute_result"
    }
   ],
   "source": [
    "y_pred"
   ]
  },
  {
   "cell_type": "code",
   "execution_count": 34,
   "metadata": {},
   "outputs": [
    {
     "data": {
      "text/plain": [
       "array([5.00001, 1.783  , 1.929  ])"
      ]
     },
     "execution_count": 34,
     "metadata": {},
     "output_type": "execute_result"
    }
   ],
   "source": [
    "y_test[:3]"
   ]
  },
  {
   "cell_type": "code",
   "execution_count": null,
   "metadata": {},
   "outputs": [],
   "source": []
  }
 ],
 "metadata": {
  "kernelspec": {
   "display_name": "Python 3",
   "language": "python",
   "name": "python3"
  },
  "language_info": {
   "codemirror_mode": {
    "name": "ipython",
    "version": 3
   },
   "file_extension": ".py",
   "mimetype": "text/x-python",
   "name": "python",
   "nbconvert_exporter": "python",
   "pygments_lexer": "ipython3",
   "version": "3.7.7"
  }
 },
 "nbformat": 4,
 "nbformat_minor": 4
}
